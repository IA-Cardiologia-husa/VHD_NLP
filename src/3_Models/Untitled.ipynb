{
 "cells": [
  {
   "cell_type": "code",
   "execution_count": 1,
   "metadata": {},
   "outputs": [
    {
     "name": "stdout",
     "output_type": "stream",
     "text": [
      "Populating the interactive namespace from numpy and matplotlib\n"
     ]
    },
    {
     "name": "stderr",
     "output_type": "stream",
     "text": [
      "/home/ubuntu/anaconda3/envs/NLP/lib/python3.7/site-packages/sklearn/utils/deprecation.py:144: FutureWarning: The sklearn.metrics.classification module is  deprecated in version 0.22 and will be removed in version 0.24. The corresponding classes / functions should instead be imported from sklearn.metrics. Anything that cannot be imported from sklearn.metrics is now part of the private API.\n",
      "  warnings.warn(message, FutureWarning)\n"
     ]
    }
   ],
   "source": [
    "import pandas as pd\n",
    "import re\n",
    "import numpy as np\n",
    "from numba import jit\n",
    "import pickle\n",
    "\n",
    "#NLP\n",
    "from spacy.lang.es.stop_words import STOP_WORDS\n",
    "import spacy\n",
    "#The vocabulary in spanish\n",
    "nlp = spacy.load('es_core_news_sm')\n",
    "#Stop_Words\n",
    "nlp.vocab[\"no\"].is_stop = False\n",
    "nlp.vocab[\"realizado\"].is_stop = False\n",
    "nlp.vocab[\"sin\"].is_stop = False\n",
    "nlp.vocab[\"tener\"].is_stop = False\n",
    "nlp.vocab[\"manifestó\"].is_stop = False\n",
    "nlp.vocab[\"existe\"].is_stop = False\n",
    "nlp.vocab[\"considera\"].is_stop = False\n",
    "nlp.vocab[\"estados\"].is_stop = False\n",
    "\n",
    "#Algoritms / Graphics\n",
    "from sklearn.model_selection import train_test_split\n",
    "from sklearn.ensemble import RandomForestClassifier\n",
    "from sklearn.linear_model import LogisticRegression\n",
    "from sklearn.metrics import roc_auc_score, confusion_matrix, accuracy_score\n",
    "from yellowbrick.classifier import ClassificationReport, DiscriminationThreshold, ROCAUC, ConfusionMatrix\n",
    "from sklearn.svm import SVC\n",
    "\n",
    "%pylab inline"
   ]
  },
  {
   "cell_type": "code",
   "execution_count": null,
   "metadata": {},
   "outputs": [],
   "source": []
  }
 ],
 "metadata": {
  "kernelspec": {
   "display_name": "Environment (conda_nlp)",
   "language": "python",
   "name": "conda_nlp"
  },
  "language_info": {
   "codemirror_mode": {
    "name": "ipython",
    "version": 3
   },
   "file_extension": ".py",
   "mimetype": "text/x-python",
   "name": "python",
   "nbconvert_exporter": "python",
   "pygments_lexer": "ipython3",
   "version": "3.7.4"
  }
 },
 "nbformat": 4,
 "nbformat_minor": 2
}
